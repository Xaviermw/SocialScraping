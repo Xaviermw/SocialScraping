{
 "cells": [
  {
   "cell_type": "code",
   "execution_count": null,
   "metadata": {
    "collapsed": false,
    "scrolled": false
   },
   "outputs": [],
   "source": [
    "import praw, time\n",
    "\n",
    "from pprint import pprint\n",
    "\n",
    "\n",
    "r = praw.Reddit('Comment parser example by u/_Daimon_')\n",
    "\n",
    "all_comments = r.get_comments('all')\n",
    "\n",
    "data = []\n",
    "\n",
    "while True:\n",
    "    all_comments = r.get_comments('mesos')\n",
    "    for post in all_comments:\n",
    "        print (post.body)\n",
    "        print (\"\\n\")\n",
    "        data.append(post.body)\n",
    "    time.sleep(30)\n",
    "\n"
   ]
  }
 ],
 "metadata": {
  "kernelspec": {
   "display_name": "Python [Root]",
   "language": "python",
   "name": "Python [Root]"
  },
  "language_info": {
   "codemirror_mode": {
    "name": "ipython",
    "version": 3
   },
   "file_extension": ".py",
   "mimetype": "text/x-python",
   "name": "python",
   "nbconvert_exporter": "python",
   "pygments_lexer": "ipython3",
   "version": "3.5.2"
  }
 },
 "nbformat": 4,
 "nbformat_minor": 0
}
