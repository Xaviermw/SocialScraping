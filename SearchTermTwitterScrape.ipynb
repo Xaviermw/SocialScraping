{
 "cells": [
  {
   "cell_type": "code",
   "execution_count": 2,
   "metadata": {
    "collapsed": false
   },
   "outputs": [
    {
     "name": "stdout",
     "output_type": "stream",
     "text": [
      "RT @TheBillsWire: Former Bills RB Karlos Williams bids final farewell to Buffalo https://t.co/PsXALWPsLx\n"
     ]
    }
   ],
   "source": [
    "import oauth2 as oauth\n",
    "# import urllib2 as urllib\n",
    "import urllib.request as urllib\n",
    "import json\n",
    "import codecs\n",
    "\n",
    "reader = codecs.getreader(\"utf-8\")\n",
    "\n",
    "# See assignment1.html instructions or README for how to get these credentials\n",
    "\n",
    "api_key = \"Hf1NgnH1NvMc8mQpAy6WFDFtE\"\n",
    "api_secret = \"yKwAEsTMtCeHQQck3gtVyyFojtbpypPfJvV0FBdD9sWODh72kg\"\n",
    "access_token_key = \"799378974-QaAc9CQvmr8Hhn5wlJNeAchAtIfk4l3pxd6qOHSy\"\n",
    "access_token_secret = \"RHpiEOoy2qOl4Gp1Kp6FROKDVfD3IkD1bEZBYoSy2negv\"\n",
    "\n",
    "_debug = 0\n",
    "\n",
    "oauth_token    = oauth.Token(key=access_token_key, secret=access_token_secret)\n",
    "oauth_consumer = oauth.Consumer(key=api_key, secret=api_secret)\n",
    "\n",
    "signature_method_hmac_sha1 = oauth.SignatureMethod_HMAC_SHA1()\n",
    "\n",
    "http_method = \"GET\"\n",
    "\n",
    "\n",
    "http_handler  = urllib.HTTPHandler(debuglevel=_debug)\n",
    "https_handler = urllib.HTTPSHandler(debuglevel=_debug)\n",
    "\n",
    "'''\n",
    "Construct, sign, and open a twitter request\n",
    "using the hard-coded credentials above.\n",
    "'''\n",
    "def twitterreq(url, method, parameters):\n",
    "    req = oauth.Request.from_consumer_and_token(oauth_consumer,\n",
    "                                             token=oauth_token,\n",
    "                                             http_method=http_method,\n",
    "                                             http_url=url, \n",
    "                                             parameters=parameters)\n",
    "\n",
    "    req.sign_request(signature_method_hmac_sha1, oauth_consumer, oauth_token)\n",
    "\n",
    "    headers = req.to_header()\n",
    "\n",
    "    if http_method == \"POST\":\n",
    "        encoded_post_data = req.to_postdata()\n",
    "    else:\n",
    "        encoded_post_data = None\n",
    "        url = req.to_url()\n",
    "        opener = urllib.OpenerDirector()\n",
    "        opener.add_handler(http_handler)\n",
    "        opener.add_handler(https_handler)\n",
    "\n",
    "    response = opener.open(url, encoded_post_data)\n",
    "\n",
    "    return response\n",
    "\n",
    "def fetchsamples():\n",
    "    url = \"https://api.twitter.com/1.1/search/tweets.json?q=buffalo%20bills&src=typd&lang=en-gb\"\n",
    "    parameters = []\n",
    "    response = twitterreq(url, \"GET\", parameters)\n",
    "    for line in response:\n",
    "        x = json.loads(line.decode())\n",
    "        print (x['statuses'][9]['text'])\n",
    "\n",
    "if __name__ == '__main__':\n",
    "    fetchsamples()\n"
   ]
  }
 ],
 "metadata": {
  "kernelspec": {
   "display_name": "Python [Root]",
   "language": "python",
   "name": "Python [Root]"
  },
  "language_info": {
   "codemirror_mode": {
    "name": "ipython",
    "version": 3
   },
   "file_extension": ".py",
   "mimetype": "text/x-python",
   "name": "python",
   "nbconvert_exporter": "python",
   "pygments_lexer": "ipython3",
   "version": "3.5.2"
  }
 },
 "nbformat": 4,
 "nbformat_minor": 0
}
